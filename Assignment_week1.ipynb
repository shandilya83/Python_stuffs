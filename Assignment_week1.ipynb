{
 "cells": [
  {
   "cell_type": "code",
   "execution_count": 9,
   "id": "8f5e3b8c",
   "metadata": {},
   "outputs": [
    {
     "name": "stdout",
     "output_type": "stream",
     "text": [
      "Question1 1:  <class 'str'>\n",
      "Question1 2:  <class 'list'>\n",
      "Question1 3:  <class 'float'>\n",
      "Question1 4:  <class 'tuple'>\n"
     ]
    }
   ],
   "source": [
    "#Q1. Create one variable containing following type of data:\n",
    "#String\n",
    "s1 = 'This is a sample string for assignment1'\n",
    "print(\"Question1 1: \", type(s1))\n",
    "l1 = [1,2,'ab','c',3]\n",
    "print(\"Question1 2: \", type(l1))\n",
    "f1 = 3.141\n",
    "print(\"Question1 3: \", type(f1))\n",
    "t1 = ('a','ab','c',3,4,5)\n",
    "print(\"Question1 4: \", type(t1))"
   ]
  },
  {
   "cell_type": "code",
   "execution_count": 2,
   "id": "9b25ff0c",
   "metadata": {},
   "outputs": [
    {
     "name": "stdout",
     "output_type": "stream",
     "text": [
      "Var1 type is : <class 'str'>\n",
      "Var2 type is : <class 'str'>\n",
      "Var3 type is : <class 'list'>\n",
      "Var4 type is : <class 'int'>\n"
     ]
    }
   ],
   "source": [
    "#Q2. Given are some following variables containing data:\n",
    "var1 = ''\n",
    "var2 = '[DS,ML,Python]'\n",
    "var3 = ['DS','ML','Python']\n",
    "var4 = 1\n",
    "print(\"Var1 type is :\",type(var1))\n",
    "print(\"Var2 type is :\",type(var2))\n",
    "print(\"Var3 type is :\",type(var3))\n",
    "print(\"Var4 type is :\",type(var4))"
   ]
  },
  {
   "cell_type": "code",
   "execution_count": 20,
   "id": "5e5f3f2e",
   "metadata": {},
   "outputs": [
    {
     "name": "stdout",
     "output_type": "stream",
     "text": [
      "Division result is:  0.6\n",
      "Remainder is:  1\n",
      "Floor Division:  6\n",
      "Exponent result:  81\n"
     ]
    }
   ],
   "source": [
    "#Q3. Explain the use of the following operators using an example:\n",
    "a=3/5\n",
    "print(\"Division result is: \", a)\n",
    "b=11%5\n",
    "print(\"Remainder is: \", b)\n",
    "c=19//3\n",
    "print(\"Floor Division: \", c)\n",
    "d=3**4\n",
    "print(\"Exponent result: \",d)"
   ]
  },
  {
   "cell_type": "code",
   "execution_count": 27,
   "id": "061f189e",
   "metadata": {},
   "outputs": [
    {
     "data": {
      "text/plain": [
       "10"
      ]
     },
     "execution_count": 27,
     "metadata": {},
     "output_type": "execute_result"
    }
   ],
   "source": [
    "#Q4. Create a list of length 10 of your choice containing multiple types of data. Using for loop print the\n",
    "#element and its data type.\n",
    "l1 =[1,2,3,'a','b','abc','text',11,'a1',10]\n",
    "len(l1)\n"
   ]
  },
  {
   "cell_type": "code",
   "execution_count": 29,
   "id": "bcb4a4bb",
   "metadata": {},
   "outputs": [
    {
     "name": "stdout",
     "output_type": "stream",
     "text": [
      "1 <class 'int'>\n",
      "2 <class 'int'>\n",
      "3 <class 'int'>\n",
      "a <class 'str'>\n",
      "b <class 'str'>\n",
      "abc <class 'str'>\n",
      "text <class 'str'>\n",
      "11 <class 'int'>\n",
      "a1 <class 'str'>\n",
      "10 <class 'int'>\n"
     ]
    }
   ],
   "source": [
    "for x in l1:\n",
    "    print(x, type(x))"
   ]
  },
  {
   "cell_type": "code",
   "execution_count": 49,
   "id": "7cedf45e",
   "metadata": {},
   "outputs": [
    {
     "name": "stdout",
     "output_type": "stream",
     "text": [
      "6\n",
      "3\n",
      "a is purely divisble by b with : 2.0 times\n"
     ]
    }
   ],
   "source": [
    "#Q5. Using a while loop, verify if the number A is purely divisible by number B and if so then how many\n",
    "#times it can be divisible.\n",
    "test1= 1\n",
    "while test1 !=0:\n",
    "    a = int(input())\n",
    "    b = int(input())\n",
    "    c = a%b\n",
    "    d = a/b\n",
    "    test1 =0\n",
    "    if c == 0:\n",
    "        print(\"a is purely divisble by b with :\",d,\"times\" )\n",
    "    else:\n",
    "        print(\"not purely divisble inputs\")\n"
   ]
  },
  {
   "cell_type": "code",
   "execution_count": 51,
   "id": "643a6713",
   "metadata": {},
   "outputs": [
    {
     "name": "stdout",
     "output_type": "stream",
     "text": [
      "1 : not divisible by 3\n",
      "2 : not divisible by 3\n",
      "3 : is divisble by 3\n",
      "4 : not divisible by 3\n",
      "5 : not divisible by 3\n",
      "6 : is divisble by 3\n",
      "7 : not divisible by 3\n",
      "8 : not divisible by 3\n",
      "9 : is divisble by 3\n",
      "10 : not divisible by 3\n",
      "11 : not divisible by 3\n",
      "12 : is divisble by 3\n",
      "13 : not divisible by 3\n",
      "14 : not divisible by 3\n",
      "15 : is divisble by 3\n",
      "16 : not divisible by 3\n",
      "17 : not divisible by 3\n",
      "18 : is divisble by 3\n",
      "19 : not divisible by 3\n",
      "20 : not divisible by 3\n",
      "21 : is divisble by 3\n",
      "22 : not divisible by 3\n",
      "23 : not divisible by 3\n",
      "24 : is divisble by 3\n",
      "25 : not divisible by 3\n"
     ]
    }
   ],
   "source": [
    "#Q6. Create a list containing 25 int type data. Using for loop and if-else condition print if the element is\n",
    "#divisible by 3 or not.\n",
    "a=[1,2,3,4,5,6,7,8,9,10,11,12,13,14,15,16,17,18,19,20,21,22,23,24,25]\n",
    "for x in a:\n",
    "    if x%3 == 0:\n",
    "        print(x,\": is divisble by 3\")\n",
    "    else:\n",
    "        print(x,\": not divisible by 3\")"
   ]
  },
  {
   "cell_type": "code",
   "execution_count": null,
   "id": "27a87e58",
   "metadata": {},
   "outputs": [],
   "source": []
  }
 ],
 "metadata": {
  "kernelspec": {
   "display_name": "Python 3 (ipykernel)",
   "language": "python",
   "name": "python3"
  },
  "language_info": {
   "codemirror_mode": {
    "name": "ipython",
    "version": 3
   },
   "file_extension": ".py",
   "mimetype": "text/x-python",
   "name": "python",
   "nbconvert_exporter": "python",
   "pygments_lexer": "ipython3",
   "version": "3.9.12"
  }
 },
 "nbformat": 4,
 "nbformat_minor": 5
}
